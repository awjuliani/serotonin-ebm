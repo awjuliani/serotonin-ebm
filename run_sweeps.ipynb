{
 "cells": [
  {
   "cell_type": "code",
   "execution_count": null,
   "metadata": {},
   "outputs": [],
   "source": [
    "import pickle\n",
    "import pprint\n",
    "import os\n",
    "from src.simulate import experiment\n",
    "import src.params as params\n",
    "from src.plot_visuals import generate_gif, generate_pdf\n",
    "from src.plot_metrics import (\n",
    "    plot_metrics,\n",
    "    plot_bar,\n",
    "    plot_results_matrix,\n",
    "    plot_multi_corrs,\n",
    "    ttests,\n",
    ")\n",
    "\n",
    "# make sure pyplot uses retina display\n",
    "%config InlineBackend.figure_format = 'retina'"
   ]
  },
  {
   "cell_type": "markdown",
   "metadata": {},
   "source": [
    "### Define hyperparameters and experiment conditions"
   ]
  },
  {
   "cell_type": "code",
   "execution_count": null,
   "metadata": {},
   "outputs": [],
   "source": [
    "pprint.pprint(params.SimHyperparams())\n",
    "pprint.pprint(params.PlotHyperparams())"
   ]
  },
  {
   "cell_type": "code",
   "execution_count": null,
   "metadata": {},
   "outputs": [],
   "source": [
    "inhibit_range = [0.0, 0.03, 0.06, 0.13, 0.25, 0.5]\n",
    "excite_range = [0.0, 0.03, 0.06, 0.13, 0.25, 0.5]\n",
    "dose_names = [\"zero\", \"min\", \"light\", \"medium\", \"heavy\", \"max\"]\n",
    "compare_ranges = [[0, 0], [0, 3], [3, 0], [0, 5], [5, 0], [3, 3], [5, 5], [5, 4]]\n",
    "\n",
    "plastic_strengths = [0.1, 0.5, 1.0]\n",
    "homeo_strengths = [0.01, 0.05, 0.1]\n",
    "num_grad_steps = [1, 10, 100]\n",
    "landscapes = [\"noise\", \"sine\", \"tangent\", \"log\", \"twisted_sine\", \"swirl\"]\n",
    "\n",
    "# plasticity variable strength sweep.\n",
    "plastic_sweep = {}\n",
    "for ps in plastic_strengths:\n",
    "    plastic_sweep[f\"plastic_{ps}\"] = {\n",
    "        f\"1a_{dose_names[one_a]}_2a_{dose_names[two_a]}\": params.SimHyperparams(\n",
    "            inhibit_str=inhibit_range[one_a],\n",
    "            excite_str=excite_range[two_a],\n",
    "            plastic_str=ps,\n",
    "            verbose=True if (one_a == 0 and two_a == 0) else False,\n",
    "        )\n",
    "        for one_a, two_a in compare_ranges\n",
    "    }\n",
    "# homeostatic variable strength sweep.\n",
    "homeo_sweep = {}\n",
    "for hs in homeo_strengths:\n",
    "    homeo_sweep[f\"homeo_{hs}\"] = {\n",
    "        f\"1a_{dose_names[one_a]}_2a_{dose_names[two_a]}\": params.SimHyperparams(\n",
    "            inhibit_str=inhibit_range[one_a],\n",
    "            excite_str=excite_range[two_a],\n",
    "            constraint_str=hs,\n",
    "            verbose=True if (one_a == 0 and two_a == 0) else False,\n",
    "        )\n",
    "        for one_a, two_a in compare_ranges\n",
    "    }\n",
    "# number of gradient steps sweep.\n",
    "grad_step_sweep = {}\n",
    "for gs in num_grad_steps:\n",
    "    grad_step_sweep[f\"grad_step_{gs}\"] = {\n",
    "        f\"1a_{dose_names[one_a]}_2a_{dose_names[two_a]}\": params.SimHyperparams(\n",
    "            inhibit_str=inhibit_range[one_a],\n",
    "            excite_str=excite_range[two_a],\n",
    "            grad_step_num=gs,\n",
    "            verbose=True if (one_a == 0 and two_a == 0) else False,\n",
    "        )\n",
    "        for one_a, two_a in compare_ranges\n",
    "    }\n",
    "# energy function surface pattern (landscape) sweep.\n",
    "landscape_sweep = {}\n",
    "for ls in landscapes:\n",
    "    landscape_sweep[f\"landscape_{ls}\"] = {\n",
    "        f\"1a_{dose_names[one_a]}_2a_{dose_names[two_a]}\": params.SimHyperparams(\n",
    "            inhibit_str=inhibit_range[one_a],\n",
    "            excite_str=excite_range[two_a],\n",
    "            surface_pattern=ls,\n",
    "            verbose=True if (one_a == 0 and two_a == 0) else False,\n",
    "        )\n",
    "        for one_a, two_a in compare_ranges\n",
    "    }\n",
    "\n",
    "experiment_choices = {\n",
    "    \"plastic_sweep\": plastic_sweep,\n",
    "    \"homeo_sweep\": homeo_sweep,\n",
    "    \"grad_step_sweep\": grad_step_sweep,\n",
    "    \"landscape_sweep\": landscape_sweep,\n",
    "}\n",
    "\n",
    "plot_name = \"plastic_sweep\"\n",
    "experiment_dict = experiment_choices[plot_name]\n",
    "plot_params = params.PlotHyperparams()\n",
    "print(f\"Experiments to run: \\n{list(experiment_dict.keys())})\")"
   ]
  },
  {
   "cell_type": "markdown",
   "metadata": {},
   "source": [
    "### Run experiment and save results"
   ]
  },
  {
   "cell_type": "code",
   "execution_count": null,
   "metadata": {},
   "outputs": [],
   "source": [
    "# run experiment and save results\n",
    "for meta_exp_name, exps in experiment_dict.items():\n",
    "    print(f\"Running experiment with {meta_exp_name}.\")\n",
    "    metric_results = {}\n",
    "    sim_results = {}\n",
    "    all_results = {}\n",
    "    for exp_name, params in exps.items():\n",
    "        (\n",
    "            all_metrics,\n",
    "            avg_metrics,\n",
    "            std_error_metrics,\n",
    "            e_mods,\n",
    "            x,\n",
    "            y,\n",
    "            zs,\n",
    "            e_star,\n",
    "        ) = experiment(params)\n",
    "        all_results[exp_name] = all_metrics\n",
    "        metric_results[exp_name] = (avg_metrics, std_error_metrics)\n",
    "        sim_results[exp_name] = (e_mods, x, y, zs, e_star)\n",
    "        print(\"Finished experiment: \", exp_name)\n",
    "\n",
    "    if not os.path.exists(\"./output/results\"):\n",
    "        os.makedirs(\"./output/results\")\n",
    "\n",
    "    with open(f\"./output/results/metric_results_{meta_exp_name}.pkl\", \"wb\") as f:\n",
    "        pickle.dump(metric_results, f)\n",
    "\n",
    "    with open(f\"./output/results/all_results_{meta_exp_name}.pkl\", \"wb\") as f:\n",
    "        pickle.dump(all_results, f)\n",
    "\n",
    "    if plot_params.generate:\n",
    "        with open(f\"./output/results/sim_results_{meta_exp_name}.pkl\", \"wb\") as f:\n",
    "            pickle.dump(sim_results, f)"
   ]
  },
  {
   "cell_type": "markdown",
   "metadata": {},
   "source": [
    "### Perform statistical analysis"
   ]
  },
  {
   "cell_type": "code",
   "execution_count": null,
   "metadata": {},
   "outputs": [],
   "source": [
    "def get_experiment(exp_name, metric, summary_type, drug_steps, all_results):\n",
    "    if summary_type == \"final\":\n",
    "        return all_results[exp_name][metric][:, -1]\n",
    "    else:\n",
    "        return all_results[exp_name][metric][:, :drug_steps].mean(axis=1)\n",
    "\n",
    "\n",
    "for meta_exp_name, exps in experiment_dict.items():\n",
    "    print(f\"Calculating statistics for {meta_exp_name}\")\n",
    "\n",
    "    # load all_results\n",
    "    with open(f\"./output/results/all_results_{meta_exp_name}.pkl\", \"rb\") as f:\n",
    "        all_results = pickle.load(f)\n",
    "\n",
    "    # run t-tests\n",
    "    metric = \"div_monotonicity\"\n",
    "    summary_type = \"final\"  # final, avg, max, min\n",
    "    ttests(all_results, exps, metric, summary_type)\n",
    "\n",
    "    # run correlation plots\n",
    "    x_metrics = [\"energy\", \"gradient_mags\", \"local_minima\", \"state_counts\"]\n",
    "    y_metric = \"divergence\"\n",
    "    summary_type_xs = [\"avg\", \"avg\", \"avg\", \"final\"]  # final, avg, max, min\n",
    "    summary_type_y = \"final\"  # final, avg, max, min\n",
    "    plot_multi_corrs(\n",
    "        all_results,\n",
    "        exps,\n",
    "        x_metrics,\n",
    "        y_metric,\n",
    "        summary_type_xs,\n",
    "        summary_type_y,\n",
    "        meta_exp_name,\n",
    "    )"
   ]
  },
  {
   "cell_type": "markdown",
   "metadata": {},
   "source": [
    "### Plot results and save figures"
   ]
  },
  {
   "cell_type": "code",
   "execution_count": null,
   "metadata": {},
   "outputs": [],
   "source": [
    "for meta_exp_name, exps in experiment_dict.items():\n",
    "    # load metric results from pickle file\n",
    "    with open(f\"./output/results/metric_results_{meta_exp_name}.pkl\", \"rb\") as f:\n",
    "        metric_results = pickle.load(f)\n",
    "\n",
    "    if len(exps) == 49 or len(exps) == 36:\n",
    "        plot_results_matrix(metric_results, inhibit_range, excite_range)\n",
    "    else:\n",
    "        plot_metrics(\n",
    "            metric_results,\n",
    "            plt_name=meta_exp_name,\n",
    "            minimal_timeseries=plot_params.minimal_timeseries,\n",
    "            format=\"pdf\",\n",
    "            render_titles=False,\n",
    "            exp_dict=exps,\n",
    "        )\n",
    "        # Plot select bar charts\n",
    "        keys = [\"divergence\", \"div_monotonicity\"]\n",
    "        titles = [\"Final Divergence Value\", \"Cumulative Divergence Increase\"]\n",
    "        plot_bar(metric_results, keys, titles, plt_name=meta_exp_name, format=\"pdf\")"
   ]
  },
  {
   "cell_type": "markdown",
   "metadata": {},
   "source": [
    "### Generate visualization images"
   ]
  },
  {
   "cell_type": "code",
   "execution_count": null,
   "metadata": {},
   "outputs": [],
   "source": [
    "for meta_exp_name in experiment_dict.keys():\n",
    "    if plot_params.generate:\n",
    "        # load sim results from pickle file\n",
    "        with open(f\"./output/results/sim_results_{meta_exp_name}.pkl\", \"rb\") as f:\n",
    "            sim_results = pickle.load(f)\n",
    "\n",
    "        for exp_name, results in sim_results.items():\n",
    "            e_mods, x, y, zs, e_star = results\n",
    "            if plot_params.output_type == \"pdf\":\n",
    "                generate_pdf(e_mods, e_star, x, y, zs, plot_params, exp_name)\n",
    "            else:\n",
    "                generate_gif(e_mods, x, y, zs, e_star, plot_params, exp_name)\n",
    "            print(f\"Generated {exp_name} plots\")"
   ]
  }
 ],
 "metadata": {
  "kernelspec": {
   "display_name": "Python 3 (ipykernel)",
   "language": "python",
   "name": "python3"
  },
  "language_info": {
   "codemirror_mode": {
    "name": "ipython",
    "version": 3
   },
   "file_extension": ".py",
   "mimetype": "text/x-python",
   "name": "python",
   "nbconvert_exporter": "python",
   "pygments_lexer": "ipython3",
   "version": "3.9.18"
  }
 },
 "nbformat": 4,
 "nbformat_minor": 2
}
