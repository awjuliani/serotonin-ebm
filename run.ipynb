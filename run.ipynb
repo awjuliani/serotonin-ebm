{
 "cells": [
  {
   "cell_type": "code",
   "execution_count": null,
   "metadata": {},
   "outputs": [],
   "source": [
    "import pickle\n",
    "import pprint\n",
    "import os\n",
    "from src.simulate import experiment\n",
    "import src.params as params\n",
    "from src.plot_visuals import generate_gif, generate_pdf\n",
    "from src.plot_metrics import (\n",
    "    plot_metrics,\n",
    "    plot_bar,\n",
    "    plot_results_matrix,\n",
    "    plot_multi_corrs,\n",
    "    ttests,\n",
    ")\n",
    "\n",
    "# make sure pyplot uses retina display\n",
    "%config InlineBackend.figure_format = 'retina'"
   ]
  },
  {
   "cell_type": "markdown",
   "metadata": {},
   "source": [
    "### Define hyperparameters and experiment conditions"
   ]
  },
  {
   "cell_type": "code",
   "execution_count": null,
   "metadata": {},
   "outputs": [],
   "source": [
    "pprint.pprint(params.SimHyperparams())\n",
    "pprint.pprint(params.PlotHyperparams())"
   ]
  },
  {
   "cell_type": "code",
   "execution_count": null,
   "metadata": {},
   "outputs": [],
   "source": [
    "inhibit_range = [0.0, 0.03, 0.06, 0.13, 0.25, 0.5]\n",
    "excite_range = [0.0, 0.03, 0.06, 0.13, 0.25, 0.5]\n",
    "dose_names = [\"zero\", \"min\", \"light\", \"medium\", \"heavy\", \"max\"]\n",
    "\n",
    "# 5-HT2a agonism\n",
    "excite_experiment = {\n",
    "    f\"2a_{dose_name}\": params.SimHyperparams(\n",
    "        excite_str=two_a,\n",
    "        inhibit_str=inhibit_range[0],\n",
    "    )\n",
    "    for dose_name, two_a in zip(dose_names, excite_range)\n",
    "}\n",
    "\n",
    "# 5-HT1a agonism\n",
    "inhibit_experiment = {\n",
    "    f\"1a_{dose_name}\": params.SimHyperparams(\n",
    "        inhibit_str=one_a,\n",
    "        excite_str=excite_range[0],\n",
    "    )\n",
    "    for dose_name, one_a in zip(dose_names, inhibit_range)\n",
    "}\n",
    "\n",
    "# mixed agonism\n",
    "mix_ranges = [[0, 0], [1, 1], [2, 2], [3, 3], [4, 4], [5, 5]]\n",
    "mix_experiment = {\n",
    "    f\"1a_{dose_names[one_a]}_2a_{dose_names[two_a]}\": params.SimHyperparams(\n",
    "        inhibit_str=inhibit_range[one_a],\n",
    "        excite_str=excite_range[two_a],\n",
    "    )\n",
    "    for one_a, two_a in mix_ranges\n",
    "}\n",
    "\n",
    "# compare agonism\n",
    "compare_ranges = [[0, 0], [0, 3], [3, 0], [0, 5], [5, 0], [3, 3], [5, 5], [5, 4]]\n",
    "compare_experiment = {\n",
    "    f\"1a_{dose_names[one_a]}_2a_{dose_names[two_a]}\": params.SimHyperparams(\n",
    "        inhibit_str=inhibit_range[one_a],\n",
    "        excite_str=excite_range[two_a],\n",
    "    )\n",
    "    for one_a, two_a in compare_ranges\n",
    "}\n",
    "\n",
    "# full agonism\n",
    "full_experiment = {\n",
    "    f\"{one_a}_{two_a}\": params.SimHyperparams(\n",
    "        inhibit_str=one_a,\n",
    "        excite_str=two_a,\n",
    "    )\n",
    "    for one_a in inhibit_range\n",
    "    for two_a in excite_range\n",
    "}\n",
    "\n",
    "experiment_choices = {\n",
    "    \"2a_agonism\": excite_experiment,\n",
    "    \"1a_agonism\": inhibit_experiment,\n",
    "    \"mixed_agonism\": mix_experiment,\n",
    "    \"compare_agonism\": compare_experiment,\n",
    "    \"full_agonism\": full_experiment,\n",
    "}\n",
    "\n",
    "plot_name = \"full_agonism\"\n",
    "experiment_dict = experiment_choices[plot_name]\n",
    "plot_params = params.PlotHyperparams()\n",
    "print(f\"Experiments to run: \\n{list(experiment_dict.keys())})\")"
   ]
  },
  {
   "cell_type": "markdown",
   "metadata": {},
   "source": [
    "### Run experiment and save results"
   ]
  },
  {
   "cell_type": "code",
   "execution_count": null,
   "metadata": {},
   "outputs": [],
   "source": [
    "# run experiment and save results\n",
    "metric_results = {}\n",
    "sim_results = {}\n",
    "all_results = {}\n",
    "for exp_name, params in experiment_dict.items():\n",
    "    all_metrics, avg_metrics, std_error_metrics, e_mods, x, y, zs, e_star = experiment(\n",
    "        params\n",
    "    )\n",
    "    all_results[exp_name] = all_metrics\n",
    "    metric_results[exp_name] = (avg_metrics, std_error_metrics)\n",
    "    sim_results[exp_name] = (e_mods, x, y, zs, e_star)\n",
    "    print(\"Finished experiment: \", exp_name)\n",
    "\n",
    "if not os.path.exists(\"./output/results\"):\n",
    "    os.makedirs(\"./output/results\")\n",
    "\n",
    "with open(f\"./output/results/metric_results_{plot_name}.pkl\", \"wb\") as f:\n",
    "    pickle.dump(metric_results, f)\n",
    "\n",
    "with open(f\"./output/results/all_results_{plot_name}.pkl\", \"wb\") as f:\n",
    "    pickle.dump(all_results, f)\n",
    "\n",
    "if plot_params.generate:\n",
    "    with open(f\"./output/results/sim_results_{plot_name}.pkl\", \"wb\") as f:\n",
    "        pickle.dump(sim_results, f)"
   ]
  },
  {
   "cell_type": "markdown",
   "metadata": {},
   "source": [
    "### Perform statistical analysis"
   ]
  },
  {
   "cell_type": "code",
   "execution_count": null,
   "metadata": {},
   "outputs": [],
   "source": [
    "# load all_results\n",
    "with open(f\"./output/results/all_results_{plot_name}.pkl\", \"rb\") as f:\n",
    "    all_results = pickle.load(f)\n",
    "\n",
    "# run t-tests\n",
    "metric = \"div_monotonicity\"\n",
    "summary_type = \"final\"  # final, avg, max, min\n",
    "ttests(all_results, experiment_dict, metric, summary_type)\n",
    "\n",
    "# run correlation plots\n",
    "x_metrics = [\"energy\", \"gradient_mags\", \"local_minima\", \"state_counts\"]\n",
    "y_metric = \"divergence\"\n",
    "summary_type_xs = [\"avg\", \"avg\", \"avg\", \"final\"]  # final, avg, max, min\n",
    "summary_type_y = \"final\"  # final, avg, max, min\n",
    "plot_multi_corrs(\n",
    "    all_results,\n",
    "    experiment_dict,\n",
    "    x_metrics,\n",
    "    y_metric,\n",
    "    summary_type_xs,\n",
    "    summary_type_y,\n",
    "    plot_name,\n",
    ")"
   ]
  },
  {
   "cell_type": "markdown",
   "metadata": {},
   "source": [
    "### Plot result figures"
   ]
  },
  {
   "cell_type": "code",
   "execution_count": null,
   "metadata": {},
   "outputs": [],
   "source": [
    "# load metric results from pickle file\n",
    "with open(f\"./output/results/metric_results_{plot_name}.pkl\", \"rb\") as f:\n",
    "    metric_results = pickle.load(f)\n",
    "\n",
    "if len(experiment_dict) == 49 or len(experiment_dict) == 36:\n",
    "    plot_results_matrix(metric_results, inhibit_range, excite_range)\n",
    "else:\n",
    "    plot_metrics(\n",
    "        metric_results,\n",
    "        plt_name=plot_name,\n",
    "        minimal_timeseries=plot_params.minimal_timeseries,\n",
    "        format=\"pdf\",\n",
    "        render_titles=False,\n",
    "        exp_dict=experiment_dict,\n",
    "    )\n",
    "    # Plot select bar charts\n",
    "    keys = [\"divergence\", \"div_monotonicity\"]\n",
    "    titles = [\"Final KL-divergence\", \"KL-divergence monotonicity\"]\n",
    "    plot_bar(metric_results, keys, titles, plt_name=plot_name, format=\"pdf\")"
   ]
  },
  {
   "cell_type": "markdown",
   "metadata": {},
   "source": [
    "### Generate visualization images"
   ]
  },
  {
   "cell_type": "code",
   "execution_count": null,
   "metadata": {},
   "outputs": [],
   "source": [
    "if plot_params.generate:\n",
    "    # load sim results from pickle file\n",
    "    with open(f\"./output/results/sim_results_{plot_name}.pkl\", \"rb\") as f:\n",
    "        sim_results = pickle.load(f)\n",
    "\n",
    "    for exp_name, results in sim_results.items():\n",
    "        e_mods, x, y, zs, e_star = results\n",
    "        if plot_params.output_type == \"pdf\":\n",
    "            generate_pdf(e_mods, e_star, x, y, zs, plot_params, exp_name, 0)\n",
    "        else:\n",
    "            generate_gif(e_mods, x, y, zs, e_star, plot_params, exp_name)\n",
    "        print(f\"Generated {exp_name} plots\")"
   ]
  }
 ],
 "metadata": {
  "kernelspec": {
   "display_name": "Python 3 (ipykernel)",
   "language": "python",
   "name": "python3"
  },
  "language_info": {
   "codemirror_mode": {
    "name": "ipython",
    "version": 3
   },
   "file_extension": ".py",
   "mimetype": "text/x-python",
   "name": "python",
   "nbconvert_exporter": "python",
   "pygments_lexer": "ipython3",
   "version": "3.9.12"
  }
 },
 "nbformat": 4,
 "nbformat_minor": 2
}
