{
 "cells": [
  {
   "cell_type": "code",
   "execution_count": null,
   "metadata": {},
   "outputs": [],
   "source": [
    "from src.landscape import LandscapeGenerator\n",
    "import matplotlib.pyplot as plt\n",
    "\n",
    "# make sure pyplot uses retina display\n",
    "%config InlineBackend.figure_format = 'retina'"
   ]
  },
  {
   "cell_type": "code",
   "execution_count": null,
   "metadata": {},
   "outputs": [],
   "source": [
    "generator = LandscapeGenerator(100, \"min-max\", \"noise\")\n",
    "z = generator.generate(0, 1, 5)\n",
    "\n",
    "# Plot the landscape as a 3d surface\n",
    "\n",
    "fig = plt.figure(figsize=(10, 10))\n",
    "ax = fig.add_subplot(111, projection=\"3d\")\n",
    "ax.plot_surface(generator.x, generator.y, z, cmap=\"terrain\")\n",
    "plt.show()\n",
    "plt.close()"
   ]
  },
  {
   "cell_type": "code",
   "execution_count": null,
   "metadata": {},
   "outputs": [],
   "source": [
    "# Explore effect of scale, blur, normalization, norm_type, pattern, and noise\n",
    "\n",
    "normalize = True\n",
    "add_noise = True\n",
    "# Norm options: \"min-max\", \"bound\", \"z-score\", \"none\"\n",
    "norm_type = \"none\"\n",
    "# Pattern options: \"noise\", \"sine\", \"cosine\", \"tangent\", \"exponent\"\n",
    "# log\", \"parabolic\", \"twisted_sine\", \"moebius\", \"swirl\",\n",
    "pattern = \"swirl\"\n",
    "scales = [0.1, 1.0, 10.0]\n",
    "blurs = [1.0, 3.0, 6.0]\n",
    "subplots = [331, 332, 333, 334, 335, 336, 337, 338, 339]\n",
    "i = 0\n",
    "\n",
    "generator = LandscapeGenerator(100, norm_type, pattern)\n",
    "\n",
    "fig = plt.figure(figsize=(24, 24))\n",
    "for scale in scales:\n",
    "    for blur in blurs:\n",
    "        z = generator.generate(\n",
    "            seed=3, scale=scale, blur=blur, normalize=normalize, add_noise=add_noise\n",
    "        )\n",
    "        # Plot the landscape as a 3d surface\n",
    "        ax = fig.add_subplot(subplots[i], projection=\"3d\")\n",
    "        ax.plot_surface(generator.x, generator.y, z, cmap=\"terrain\")\n",
    "        ax.set_title(f\"s={scale}, b={blur}\")\n",
    "        i += 1\n",
    "plt.show()\n",
    "plt.close()"
   ]
  }
 ],
 "metadata": {
  "kernelspec": {
   "display_name": "base",
   "language": "python",
   "name": "python3"
  },
  "language_info": {
   "codemirror_mode": {
    "name": "ipython",
    "version": 3
   },
   "file_extension": ".py",
   "mimetype": "text/x-python",
   "name": "python",
   "nbconvert_exporter": "python",
   "pygments_lexer": "ipython3",
   "version": "3.9.12"
  }
 },
 "nbformat": 4,
 "nbformat_minor": 2
}
